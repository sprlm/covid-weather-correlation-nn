{
 "cells": [
  {
   "cell_type": "code",
   "execution_count": 19,
   "metadata": {},
   "outputs": [
    {
     "name": "stdout",
     "output_type": "stream",
     "text": [
      "The autoreload extension is already loaded. To reload it, use:\n",
      "  %reload_ext autoreload\n"
     ]
    }
   ],
   "source": [
    "# This is a Python implementation of Neural Networks, retrieved from the Javier Ideami from Towards Data Science, from \n",
    "# https://towardsdatascience.com/coding-a-2-layer-neural-network-from-scratch-in-python-4dd022d19fd2\n",
    "# This was modified to fit the needed layers for the implementation of neural networks, determining the relationship\n",
    "# of the weather parameters to the number of additional COVID-19 cases in the Philippines\n",
    "\n",
    "import numpy as np\n",
    "import matplotlib.pyplot as plt\n",
    "import pandas as pd \n",
    "from sklearn import preprocessing\n",
    "from sklearn.preprocessing import MinMaxScaler\n",
    "from sklearn import metrics\n",
    "from sklearn.metrics import confusion_matrix\n",
    "import itertools\n",
    "\n",
    "# For displaying values, not to limit the possible lines to be printed\n",
    "np.set_printoptions(threshold=np.inf)\n",
    "\n",
    "%matplotlib inline\n",
    "%load_ext autoreload\n",
    "%autoreload 2"
   ]
  },
  {
   "cell_type": "code",
   "execution_count": 20,
   "metadata": {},
   "outputs": [],
   "source": [
    "# For plotting the confusion matrix\n",
    "def plotCf(a,b,t):\n",
    "    cf =confusion_matrix(a,b)\n",
    "    plt.imshow(cf,cmap=plt.cm.Blues,interpolation='nearest')\n",
    "    plt.colorbar()\n",
    "    plt.title(t)\n",
    "    plt.xlabel('Predicted')\n",
    "    plt.ylabel('Actual')\n",
    "    tick_marks = np.arange(len(set(a))) # length of classes\n",
    "    class_labels = ['0','1']\n",
    "    plt.xticks(tick_marks,class_labels)\n",
    "    plt.yticks(tick_marks,class_labels)\n",
    "    thresh = cf.max() / 2.\n",
    "    for i,j in itertools.product(range(cf.shape[0]),range(cf.shape[1])):\n",
    "        plt.text(j,i,format(cf[i,j],'d'),horizontalalignment='center',color='white' if cf[i,j] >thresh else 'black')\n",
    "    plt.show();"
   ]
  },
  {
   "cell_type": "code",
   "execution_count": 21,
   "metadata": {},
   "outputs": [],
   "source": [
    "# Sigmoid function (for output layer)\n",
    "def Sigmoid(Z):\n",
    "    return 1/(1+np.exp(-Z))\n",
    "\n",
    "# Rectified Linear Unit Function (for hidden layers)\n",
    "def Relu(Z):\n",
    "    return np.maximum(0,Z)\n",
    "\n",
    "# Derivative of ReLU for two hidden layers\n",
    "def dRelu2(dZ, Z):    \n",
    "    dZ[Z <= 0] = 0    \n",
    "    return dZ\n",
    "\n",
    "# Derivative of ReLU\n",
    "def dRelu(x):\n",
    "    x[x<=0] = 0\n",
    "    x[x>0] = 1\n",
    "    return x\n",
    "\n",
    "# Derivative of Sigmoid\n",
    "def dSigmoid(Z):\n",
    "    s = 1/(1+np.exp(-Z))\n",
    "    dZ = s * (1-s)\n",
    "    return dZ\n",
    "\n",
    "class dlnet:\n",
    "    # Initial values of the neural network, could be modified by the user\n",
    "    def __init__(self, x, y):\n",
    "        self.debug = 0;\n",
    "        self.X=x\n",
    "        self.Y=y\n",
    "        self.Yh=np.zeros((1,self.Y.shape[1])) \n",
    "        self.L=2\n",
    "        self.dims = [3, 15, 15, 1] \n",
    "        self.param = {}\n",
    "        self.ch = {}\n",
    "        self.grad = {}\n",
    "        self.loss = []\n",
    "        self.lr=0.003\n",
    "        self.sam = self.Y.shape[1]\n",
    "        self.threshold=0.5\n",
    "    \n",
    "    # Randomization of weights and biases\n",
    "    def nInit(self):    \n",
    "        np.random.seed(1)\n",
    "        self.param['W1'] = np.random.randn(self.dims[1], self.dims[0]) / np.sqrt(self.dims[0]) \n",
    "        self.param['b1'] = np.zeros((self.dims[1], 1))        \n",
    "        self.param['W2'] = np.random.randn(self.dims[2], self.dims[1]) / np.sqrt(self.dims[1]) \n",
    "        self.param['b2'] = np.zeros((self.dims[2], 1))\n",
    "        self.param['W3'] = np.random.randn(self.dims[3], self.dims[2]) / np.sqrt(self.dims[2]) \n",
    "        self.param['b3'] = np.zeros((self.dims[3], 1))   \n",
    "        return \n",
    "\n",
    "    # Feedforward loop\n",
    "    def forward(self):    \n",
    "        Z1 = self.param['W1'].dot(self.X) + self.param['b1'] \n",
    "        A1 = Relu(Z1)\n",
    "        self.ch['Z1'],self.ch['A1']=Z1,A1\n",
    "        \n",
    "        Z2 = self.param['W2'].dot(A1) + self.param['b2']\n",
    "        A2 = Relu(Z2)\n",
    "        self.ch['Z2'], self.ch['A2'] = Z2, A2\n",
    "        \n",
    "        Z3 = self.param['W3'].dot(A2) + self.param['b3']\n",
    "        A3 = Sigmoid(Z3)\n",
    "        self.ch['Z3'], self.ch['A3'] = Z3, A3\n",
    "\n",
    "        self.Yh=A3\n",
    "        loss=self.nloss(A3)\n",
    "        return self.Yh, loss\n",
    "\n",
    "    # Calcuating error\n",
    "    def nloss(self,Yh):\n",
    "        clipped_Yh = np.clip(Yh, 1e-7, 1 - 1e-7)\n",
    "        loss = (1./self.sam) * (-np.dot(self.Y,np.log(clipped_Yh).T) - np.dot(1-self.Y, np.log(1-clipped_Yh).T))    \n",
    "        return loss\n",
    "    \n",
    "    # Backpropagation\n",
    "    def backward(self):\n",
    "        clipped_Yh = np.clip(self.Yh, 1e-7, 1 - 1e-7)\n",
    "        dLoss_Yh = - (np.divide(self.Y, clipped_Yh) - np.divide(1 - self.Y, 1 - clipped_Yh))  \n",
    "        \n",
    "        dLoss_Z3 = dLoss_Yh * dSigmoid(self.ch['Z3'])\n",
    "        dLoss_A2 = np.dot(self.param['W3'].T, dLoss_Z3)\n",
    "        dLoss_W3 = 1./self.ch['A2'].shape[1] * np.dot(dLoss_Z3, self.ch['A2'].T)\n",
    "        dLoss_b3 = 1./self.ch['A2'].shape[1] * np.dot(dLoss_Z3, np.ones([dLoss_Z3.shape[1], 1]))\n",
    "        \n",
    "        dLoss_Z2 = dLoss_A2 * dSigmoid(self.ch['Z2'])\n",
    "        dLoss_A1 = np.dot(self.param['W2'].T, dLoss_Z2)\n",
    "        dLoss_W2 = 1./self.ch['A1'].shape[1] * np.dot(dLoss_Z2, self.ch['A1'].T)\n",
    "        dLoss_b2 = 1./self.ch['A1'].shape[1] * np.dot(dLoss_Z2, np.ones([dLoss_Z2.shape[1], 1]))\n",
    "\n",
    "        dLoss_Z1 = dLoss_A1 * dRelu(self.ch['Z1'])        \n",
    "        dLoss_A0 = np.dot(self.param[\"W1\"].T,dLoss_Z1)\n",
    "        dLoss_W1 = 1./self.X.shape[1] * np.dot(dLoss_Z1,self.X.T)\n",
    "        dLoss_b1 = 1./self.X.shape[1] * np.dot(dLoss_Z1, np.ones([dLoss_Z1.shape[1],1]))  \n",
    "        \n",
    "        self.param[\"W1\"] = self.param[\"W1\"] - self.lr * dLoss_W1\n",
    "        self.param[\"b1\"] = self.param[\"b1\"] - self.lr * dLoss_b1\n",
    "        self.param[\"W2\"] = self.param[\"W2\"] - self.lr * dLoss_W2\n",
    "        self.param[\"b2\"] = self.param[\"b2\"] - self.lr * dLoss_b2\n",
    "        self.param[\"W3\"] = self.param[\"W3\"] - self.lr * dLoss_W3\n",
    "        self.param[\"b3\"] = self.param[\"b3\"] - self.lr * dLoss_b3\n",
    "        \n",
    "        return\n",
    "\n",
    "    # Accuracy of the prediction\n",
    "    def pred(self,x, y):  \n",
    "        self.X=x\n",
    "        self.Y=y\n",
    "        comp = np.zeros((1,x.shape[1]))\n",
    "        pred, loss= self.forward()    \n",
    "    \n",
    "        for i in range(0, pred.shape[1]):\n",
    "            if pred[0,i] > self.threshold: comp[0,i] = 1\n",
    "            else: comp[0,i] = 0\n",
    "    \n",
    "        print(\"Acc: \" + str(np.sum((comp == y)/x.shape[1])))\n",
    "        \n",
    "        return comp\n",
    "    \n",
    "    # For the gradient descent, calls backpropagation to change the weights' values\n",
    "    def gd(self,X, Y, iter = 3000):\n",
    "        np.random.seed(1)                         \n",
    "    \n",
    "        self.nInit()\n",
    "    \n",
    "        for i in range(0, iter):\n",
    "            Yh, loss=self.forward()\n",
    "            self.backward()\n",
    "        \n",
    "            if i % 500 == 0:\n",
    "                print (\"Cost after iteration %i: %f\" %(i, loss))\n",
    "                self.loss.append(loss)\n",
    "\n",
    "        plt.plot(np.squeeze(self.loss))\n",
    "        plt.ylabel('Loss')\n",
    "        plt.xlabel('Iter')\n",
    "        plt.title(\"Lr =\" + str(self.lr))\n",
    "        plt.show()\n",
    "    \n",
    "        return"
   ]
  },
  {
   "cell_type": "code",
   "execution_count": 22,
   "metadata": {},
   "outputs": [
    {
     "name": "stdout",
     "output_type": "stream",
     "text": [
      "0   MAXTEMP  MAXWNDSPD      PRCP\n",
      "0  0.111111   0.063592  0.000000\n",
      "1  0.461538   0.130532  0.000000\n",
      "2  0.726496   0.063592  0.000000\n",
      "3  0.367521   0.261064  0.013636\n",
      "4  0.769231   0.261064  0.000000\n"
     ]
    }
   ],
   "source": [
    "# Retrieve the data set\n",
    "df = pd.read_csv('weather-params-covid-cases.csv',header=None)\n",
    "header = df.iloc[0]\n",
    "df = df[1:]\n",
    "df.columns = header\n",
    "df = df.astype(float)\n",
    "\n",
    "# Scaling of dataset so the values would only be between 0 and 1\n",
    "# Neural network works much better for this range of values\n",
    "\n",
    "scaled_df=df\n",
    "names = df.columns[0:3]\n",
    "scaler = MinMaxScaler() \n",
    "scaled_df = scaler.fit_transform(df.iloc[:,0:3]) \n",
    "scaled_df = pd.DataFrame(scaled_df, columns=names)\n",
    "\n",
    "print(scaled_df.head(5))"
   ]
  },
  {
   "cell_type": "code",
   "execution_count": 23,
   "metadata": {},
   "outputs": [
    {
     "name": "stdout",
     "output_type": "stream",
     "text": [
      "(62, 4) (3, 50) (1, 50) (3, 12) (1, 12)\n"
     ]
    }
   ],
   "source": [
    "# Designation of values for training or validation set\n",
    "x = scaled_df.iloc[0:50, 0:3].values.transpose()\n",
    "y = df.iloc[0:50, 3:].values.transpose()\n",
    "xval = scaled_df.iloc[50:63, 0:3].values.transpose()\n",
    "yval = df.iloc[50:63, 3:].values.transpose()\n",
    "\n",
    "print(df.shape, x.shape, y.shape, xval.shape, yval.shape)\n",
    "\n",
    "nn = dlnet(x,y)\n",
    "nn.lr=0.05\n",
    "nn.dims = [3, 25, 20, 1]"
   ]
  },
  {
   "cell_type": "code",
   "execution_count": 24,
   "metadata": {},
   "outputs": [
    {
     "name": "stdout",
     "output_type": "stream",
     "text": [
      "Cost after iteration 0: 0.688088\n",
      "Cost after iteration 500: 0.569418\n",
      "Cost after iteration 1000: 0.564899\n",
      "Cost after iteration 1500: 0.560317\n",
      "Cost after iteration 2000: 0.556327\n",
      "Cost after iteration 2500: 0.552861\n",
      "Cost after iteration 3000: 0.549597\n",
      "Cost after iteration 3500: 0.546834\n",
      "Cost after iteration 4000: 0.544145\n",
      "Cost after iteration 4500: 0.541401\n",
      "Cost after iteration 5000: 0.538483\n",
      "Cost after iteration 5500: 0.535273\n",
      "Cost after iteration 6000: 0.531563\n",
      "Cost after iteration 6500: 0.527587\n",
      "Cost after iteration 7000: 0.523486\n",
      "Cost after iteration 7500: 0.519646\n",
      "Cost after iteration 8000: 0.515474\n",
      "Cost after iteration 8500: 0.510736\n",
      "Cost after iteration 9000: 0.506055\n",
      "Cost after iteration 9500: 0.501333\n",
      "Cost after iteration 10000: 0.496655\n",
      "Cost after iteration 10500: 0.491817\n",
      "Cost after iteration 11000: 0.487327\n",
      "Cost after iteration 11500: 0.482963\n",
      "Cost after iteration 12000: 0.478365\n",
      "Cost after iteration 12500: 0.473656\n",
      "Cost after iteration 13000: 0.469251\n",
      "Cost after iteration 13500: 0.464733\n",
      "Cost after iteration 14000: 0.460410\n",
      "Cost after iteration 14500: 0.456100\n",
      "Cost after iteration 15000: 0.450820\n",
      "Cost after iteration 15500: 0.445571\n",
      "Cost after iteration 16000: 0.440732\n",
      "Cost after iteration 16500: 0.436098\n",
      "Cost after iteration 17000: 0.431738\n",
      "Cost after iteration 17500: 0.427729\n",
      "Cost after iteration 18000: 0.423677\n",
      "Cost after iteration 18500: 0.420533\n",
      "Cost after iteration 19000: 0.417456\n",
      "Cost after iteration 19500: 0.415038\n",
      "Cost after iteration 20000: 0.412987\n",
      "Cost after iteration 20500: 0.411110\n",
      "Cost after iteration 21000: 0.409390\n",
      "Cost after iteration 21500: 0.407615\n",
      "Cost after iteration 22000: 0.405711\n",
      "Cost after iteration 22500: 0.403774\n",
      "Cost after iteration 23000: 0.401927\n",
      "Cost after iteration 23500: 0.400191\n",
      "Cost after iteration 24000: 0.398655\n",
      "Cost after iteration 24500: 0.397212\n",
      "Cost after iteration 25000: 0.395816\n",
      "Cost after iteration 25500: 0.394787\n",
      "Cost after iteration 26000: 0.393687\n",
      "Cost after iteration 26500: 0.392959\n",
      "Cost after iteration 27000: 0.392805\n",
      "Cost after iteration 27500: 0.392515\n",
      "Cost after iteration 28000: 0.392429\n",
      "Cost after iteration 28500: 0.393533\n",
      "Cost after iteration 29000: 0.393282\n",
      "Cost after iteration 29500: 0.392631\n",
      "Cost after iteration 30000: 0.392883\n",
      "Cost after iteration 30500: 0.389614\n",
      "Cost after iteration 31000: 0.388460\n",
      "Cost after iteration 31500: 0.385772\n",
      "Cost after iteration 32000: 0.386815\n",
      "Cost after iteration 32500: 0.381522\n",
      "Cost after iteration 33000: 0.384809\n",
      "Cost after iteration 33500: 0.384632\n",
      "Cost after iteration 34000: 0.384561\n",
      "Cost after iteration 34500: 0.384478\n",
      "Cost after iteration 35000: 0.384546\n",
      "Cost after iteration 35500: 0.384797\n",
      "Cost after iteration 36000: 0.384417\n",
      "Cost after iteration 36500: 0.384358\n",
      "Cost after iteration 37000: 0.383420\n",
      "Cost after iteration 37500: 0.382996\n",
      "Cost after iteration 38000: 0.382677\n",
      "Cost after iteration 38500: 0.381124\n",
      "Cost after iteration 39000: 0.381426\n",
      "Cost after iteration 39500: 0.381149\n",
      "Cost after iteration 40000: 0.378661\n",
      "Cost after iteration 40500: 0.383800\n",
      "Cost after iteration 41000: 0.380901\n",
      "Cost after iteration 41500: 0.385796\n",
      "Cost after iteration 42000: 0.377153\n",
      "Cost after iteration 42500: 0.377801\n",
      "Cost after iteration 43000: 0.377616\n",
      "Cost after iteration 43500: 0.376386\n",
      "Cost after iteration 44000: 0.375812\n",
      "Cost after iteration 44500: 0.373983\n",
      "Cost after iteration 45000: 0.373741\n",
      "Cost after iteration 45500: 0.379877\n",
      "Cost after iteration 46000: 0.374116\n",
      "Cost after iteration 46500: 0.373606\n",
      "Cost after iteration 47000: 0.373988\n",
      "Cost after iteration 47500: 0.374289\n",
      "Cost after iteration 48000: 0.372822\n",
      "Cost after iteration 48500: 0.374448\n",
      "Cost after iteration 49000: 0.371526\n",
      "Cost after iteration 49500: 0.370279\n",
      "Cost after iteration 50000: 0.369438\n",
      "Cost after iteration 50500: 0.368830\n",
      "Cost after iteration 51000: 0.373118\n",
      "Cost after iteration 51500: 0.364190\n",
      "Cost after iteration 52000: 0.367574\n",
      "Cost after iteration 52500: 0.361448\n",
      "Cost after iteration 53000: 0.366019\n",
      "Cost after iteration 53500: 0.361001\n",
      "Cost after iteration 54000: 0.356217\n",
      "Cost after iteration 54500: 0.357245\n",
      "Cost after iteration 55000: 0.353196\n",
      "Cost after iteration 55500: 0.354285\n",
      "Cost after iteration 56000: 0.351520\n",
      "Cost after iteration 56500: 0.347632\n",
      "Cost after iteration 57000: 0.347248\n",
      "Cost after iteration 57500: 0.358289\n",
      "Cost after iteration 58000: 0.351955\n",
      "Cost after iteration 58500: 0.349086\n",
      "Cost after iteration 59000: 0.356738\n",
      "Cost after iteration 59500: 0.353863\n",
      "Cost after iteration 60000: 0.348892\n",
      "Cost after iteration 60500: 0.346838\n",
      "Cost after iteration 61000: 0.342480\n",
      "Cost after iteration 61500: 0.346588\n",
      "Cost after iteration 62000: 0.348711\n",
      "Cost after iteration 62500: 0.352336\n",
      "Cost after iteration 63000: 0.349313\n",
      "Cost after iteration 63500: 0.351723\n",
      "Cost after iteration 64000: 0.351475\n",
      "Cost after iteration 64500: 0.341926\n",
      "Cost after iteration 65000: 0.377053\n",
      "Cost after iteration 65500: 0.366812\n",
      "Cost after iteration 66000: 0.348394\n",
      "Cost after iteration 66500: 0.327503\n",
      "Cost after iteration 67000: 0.338182\n",
      "Cost after iteration 67500: 0.347121\n",
      "Cost after iteration 68000: 0.324832\n",
      "Cost after iteration 68500: 0.316769\n",
      "Cost after iteration 69000: 0.336342\n",
      "Cost after iteration 69500: 0.324183\n",
      "Cost after iteration 70000: 0.316849\n",
      "Cost after iteration 70500: 0.319111\n",
      "Cost after iteration 71000: 0.296724\n",
      "Cost after iteration 71500: 0.299265\n",
      "Cost after iteration 72000: 0.296280\n",
      "Cost after iteration 72500: 0.295099\n",
      "Cost after iteration 73000: 0.298178\n",
      "Cost after iteration 73500: 0.310331\n",
      "Cost after iteration 74000: 0.334160\n",
      "Cost after iteration 74500: 0.355963\n",
      "Cost after iteration 75000: 0.378817\n",
      "Cost after iteration 75500: 0.392074\n",
      "Cost after iteration 76000: 0.414405\n",
      "Cost after iteration 76500: 0.413859\n",
      "Cost after iteration 77000: 0.374873\n",
      "Cost after iteration 77500: 0.345879\n",
      "Cost after iteration 78000: 0.337375\n",
      "Cost after iteration 78500: 0.343251\n",
      "Cost after iteration 79000: 0.356842\n",
      "Cost after iteration 79500: 0.363040\n",
      "Cost after iteration 80000: 0.345663\n",
      "Cost after iteration 80500: 0.334844\n",
      "Cost after iteration 81000: 0.318906\n",
      "Cost after iteration 81500: 0.298919\n",
      "Cost after iteration 82000: 0.277393\n",
      "Cost after iteration 82500: 0.254707\n",
      "Cost after iteration 83000: 0.223120\n",
      "Cost after iteration 83500: 0.177076\n",
      "Cost after iteration 84000: 0.159793\n",
      "Cost after iteration 84500: 0.159139\n",
      "Cost after iteration 85000: 0.119805\n",
      "Cost after iteration 85500: 0.112361\n",
      "Cost after iteration 86000: 0.107693\n",
      "Cost after iteration 86500: 0.114299\n",
      "Cost after iteration 87000: 0.100941\n",
      "Cost after iteration 87500: 0.176742\n",
      "Cost after iteration 88000: 0.149624\n",
      "Cost after iteration 88500: 0.172118\n",
      "Cost after iteration 89000: 0.147047\n",
      "Cost after iteration 89500: 0.137576\n",
      "Cost after iteration 90000: 0.146237\n",
      "Cost after iteration 90500: 0.106164\n",
      "Cost after iteration 91000: 0.212985\n",
      "Cost after iteration 91500: 0.162023\n",
      "Cost after iteration 92000: 0.144574\n",
      "Cost after iteration 92500: 0.193066\n",
      "Cost after iteration 93000: 0.106712\n",
      "Cost after iteration 93500: 0.092984\n",
      "Cost after iteration 94000: 0.082894\n",
      "Cost after iteration 94500: 0.078219\n",
      "Cost after iteration 95000: 0.073529\n",
      "Cost after iteration 95500: 0.070340\n",
      "Cost after iteration 96000: 0.067860\n",
      "Cost after iteration 96500: 0.066242\n",
      "Cost after iteration 97000: 0.064696\n",
      "Cost after iteration 97500: 0.063944\n",
      "Cost after iteration 98000: 0.062125\n",
      "Cost after iteration 98500: 0.060598\n",
      "Cost after iteration 99000: 0.059214\n",
      "Cost after iteration 99500: 0.057896\n",
      "Cost after iteration 100000: 0.056768\n",
      "Cost after iteration 100500: 0.055730\n",
      "Cost after iteration 101000: 0.054735\n",
      "Cost after iteration 101500: 0.053799\n",
      "Cost after iteration 102000: 0.053197\n",
      "Cost after iteration 102500: 0.052931\n",
      "Cost after iteration 103000: 0.052734\n",
      "Cost after iteration 103500: 0.052209\n",
      "Cost after iteration 104000: 0.051928\n",
      "Cost after iteration 104500: 0.051691\n",
      "Cost after iteration 105000: 0.051433\n",
      "Cost after iteration 105500: 0.051457\n",
      "Cost after iteration 106000: 0.050919\n",
      "Cost after iteration 106500: 0.050494\n",
      "Cost after iteration 107000: 0.050218\n",
      "Cost after iteration 107500: 0.049964\n",
      "Cost after iteration 108000: 0.049760\n",
      "Cost after iteration 108500: 0.049572\n",
      "Cost after iteration 109000: 0.049361\n",
      "Cost after iteration 109500: 0.049157\n",
      "Cost after iteration 110000: 0.049216\n",
      "Cost after iteration 110500: 0.049315\n"
     ]
    },
    {
     "name": "stdout",
     "output_type": "stream",
     "text": [
      "Cost after iteration 111000: 0.049328\n",
      "Cost after iteration 111500: 0.049357\n",
      "Cost after iteration 112000: 0.049415\n",
      "Cost after iteration 112500: 0.049244\n",
      "Cost after iteration 113000: 0.049035\n",
      "Cost after iteration 113500: 0.048816\n",
      "Cost after iteration 114000: 0.048603\n",
      "Cost after iteration 114500: 0.048375\n",
      "Cost after iteration 115000: 0.048139\n",
      "Cost after iteration 115500: 0.047884\n",
      "Cost after iteration 116000: 0.047615\n",
      "Cost after iteration 116500: 0.047252\n",
      "Cost after iteration 117000: 0.046979\n",
      "Cost after iteration 117500: 0.046834\n",
      "Cost after iteration 118000: 0.046842\n",
      "Cost after iteration 118500: 0.046899\n",
      "Cost after iteration 119000: 0.046638\n",
      "Cost after iteration 119500: 0.046515\n",
      "Cost after iteration 120000: 0.046400\n",
      "Cost after iteration 120500: 0.046136\n",
      "Cost after iteration 121000: 0.045743\n",
      "Cost after iteration 121500: 0.045637\n",
      "Cost after iteration 122000: 0.046766\n",
      "Cost after iteration 122500: 0.039693\n",
      "Cost after iteration 123000: 0.039006\n",
      "Cost after iteration 123500: 0.039125\n",
      "Cost after iteration 124000: 0.040576\n",
      "Cost after iteration 124500: 0.042795\n",
      "Cost after iteration 125000: 0.042052\n",
      "Cost after iteration 125500: 0.041596\n",
      "Cost after iteration 126000: 0.040963\n",
      "Cost after iteration 126500: 0.039390\n",
      "Cost after iteration 127000: 0.038298\n",
      "Cost after iteration 127500: 0.037639\n",
      "Cost after iteration 128000: 0.037333\n",
      "Cost after iteration 128500: 0.037026\n",
      "Cost after iteration 129000: 0.036972\n",
      "Cost after iteration 129500: 0.037002\n",
      "Cost after iteration 130000: 0.036643\n",
      "Cost after iteration 130500: 0.036113\n",
      "Cost after iteration 131000: 0.035641\n",
      "Cost after iteration 131500: 0.035594\n",
      "Cost after iteration 132000: 0.035856\n",
      "Cost after iteration 132500: 0.036118\n",
      "Cost after iteration 133000: 0.036375\n",
      "Cost after iteration 133500: 0.036635\n",
      "Cost after iteration 134000: 0.036854\n",
      "Cost after iteration 134500: 0.037025\n",
      "Cost after iteration 135000: 0.037248\n",
      "Cost after iteration 135500: 0.037533\n",
      "Cost after iteration 136000: 0.037769\n",
      "Cost after iteration 136500: 0.037867\n",
      "Cost after iteration 137000: 0.037845\n",
      "Cost after iteration 137500: 0.037722\n",
      "Cost after iteration 138000: 0.037649\n",
      "Cost after iteration 138500: 0.037610\n",
      "Cost after iteration 139000: 0.037573\n",
      "Cost after iteration 139500: 0.037540\n",
      "Cost after iteration 140000: 0.037585\n",
      "Cost after iteration 140500: 0.037632\n",
      "Cost after iteration 141000: 0.037656\n",
      "Cost after iteration 141500: 0.037681\n",
      "Cost after iteration 142000: 0.037696\n",
      "Cost after iteration 142500: 0.037729\n",
      "Cost after iteration 143000: 0.037799\n",
      "Cost after iteration 143500: 0.037759\n",
      "Cost after iteration 144000: 0.037721\n",
      "Cost after iteration 144500: 0.037623\n",
      "Cost after iteration 145000: 0.037488\n",
      "Cost after iteration 145500: 0.037406\n",
      "Cost after iteration 146000: 0.037480\n",
      "Cost after iteration 146500: 0.037636\n",
      "Cost after iteration 147000: 0.038066\n",
      "Cost after iteration 147500: 0.038743\n",
      "Cost after iteration 148000: 0.039503\n",
      "Cost after iteration 148500: 0.039943\n",
      "Cost after iteration 149000: 0.040048\n",
      "Cost after iteration 149500: 0.039746\n"
     ]
    },
    {
     "data": {
      "image/png": "[encoded data removed]",
      "text/plain": [
       "<Figure size 432x288 with 1 Axes>"
      ]
     },
     "metadata": {
      "needs_background": "light"
     },
     "output_type": "display_data"
    }
   ],
   "source": [
    "nn.gd(x, y, iter = 150000)"
   ]
  },
  {
   "cell_type": "code",
   "execution_count": 25,
   "metadata": {},
   "outputs": [
    {
     "name": "stdout",
     "output_type": "stream",
     "text": [
      "Acc: 0.9800000000000002\n",
      "Acc: 0.41666666666666663\n"
     ]
    }
   ],
   "source": [
    "# Accuracy of the training process and the validation process\n",
    "pred_train = nn.pred(x, y)\n",
    "pred_test = nn.pred(xval, yval)"
   ]
  },
  {
   "cell_type": "code",
   "execution_count": 26,
   "metadata": {},
   "outputs": [
    {
     "name": "stdout",
     "output_type": "stream",
     "text": [
      "Acc: 0.9800000000000002\n"
     ]
    },
    {
     "data": {
      "image/png": "[encoded data removed]",
      "text/plain": [
       "<Figure size 432x288 with 2 Axes>"
      ]
     },
     "metadata": {
      "needs_background": "light"
     },
     "output_type": "display_data"
    },
    {
     "name": "stdout",
     "output_type": "stream",
     "text": [
      "Acc: 0.41666666666666663\n"
     ]
    },
    {
     "data": {
      "image/png": "[encoded data removed]",
      "text/plain": [
       "<Figure size 432x288 with 2 Axes>"
      ]
     },
     "metadata": {
      "needs_background": "light"
     },
     "output_type": "display_data"
    }
   ],
   "source": [
    "# Succeeding lines of code would be checking the changes if threshold value would be increased\n",
    "nn.threshold=0.5\n",
    "\n",
    "nn.X,nn.Y=x, y \n",
    "target=np.around(np.squeeze(y), decimals=0).astype(np.int)\n",
    "predicted=np.around(np.squeeze(nn.pred(x,y)), decimals=0).astype(np.int)\n",
    "plotCf(target,predicted,'Cf Training Set')\n",
    "\n",
    "nn.X,nn.Y=xval, yval \n",
    "target=np.around(np.squeeze(yval), decimals=0).astype(np.int)\n",
    "predicted=np.around(np.squeeze(nn.pred(xval,yval)), decimals=0).astype(np.int)\n",
    "plotCf(target,predicted,'Cf Validation Set')"
   ]
  },
  {
   "cell_type": "code",
   "execution_count": 27,
   "metadata": {},
   "outputs": [
    {
     "name": "stdout",
     "output_type": "stream",
     "text": [
      "Acc: 0.9800000000000002\n"
     ]
    },
    {
     "data": {
      "image/png": "[encoded data removed]",
      "text/plain": [
       "<Figure size 432x288 with 2 Axes>"
      ]
     },
     "metadata": {
      "needs_background": "light"
     },
     "output_type": "display_data"
    },
    {
     "name": "stdout",
     "output_type": "stream",
     "text": [
      "Acc: 0.49999999999999994\n"
     ]
    },
    {
     "data": {
      "image/png": "[encoded data removed]",
      "text/plain": [
       "<Figure size 432x288 with 2 Axes>"
      ]
     },
     "metadata": {
      "needs_background": "light"
     },
     "output_type": "display_data"
    }
   ],
   "source": [
    "nn.threshold=0.7\n",
    "\n",
    "nn.X,nn.Y=x, y \n",
    "target=np.around(np.squeeze(y), decimals=0).astype(np.int)\n",
    "predicted=np.around(np.squeeze(nn.pred(x,y)), decimals=0).astype(np.int)\n",
    "plotCf(target,predicted,'Cf Training Set')\n",
    "\n",
    "nn.X,nn.Y=xval, yval \n",
    "target=np.around(np.squeeze(yval), decimals=0).astype(np.int)\n",
    "predicted=np.around(np.squeeze(nn.pred(xval,yval)), decimals=0).astype(np.int)\n",
    "plotCf(target,predicted,'Cf Validation Set')"
   ]
  },
  {
   "cell_type": "code",
   "execution_count": 28,
   "metadata": {},
   "outputs": [
    {
     "name": "stdout",
     "output_type": "stream",
     "text": [
      "Acc: 0.9600000000000002\n"
     ]
    },
    {
     "data": {
      "image/png": "[encoded data removed]",
      "text/plain": [
       "<Figure size 432x288 with 2 Axes>"
      ]
     },
     "metadata": {
      "needs_background": "light"
     },
     "output_type": "display_data"
    },
    {
     "name": "stdout",
     "output_type": "stream",
     "text": [
      "Acc: 0.49999999999999994\n"
     ]
    },
    {
     "data": {
      "image/png": "[encoded data removed]",
      "text/plain": [
       "<Figure size 432x288 with 2 Axes>"
      ]
     },
     "metadata": {
      "needs_background": "light"
     },
     "output_type": "display_data"
    }
   ],
   "source": [
    "nn.threshold=0.9\n",
    "\n",
    "nn.X,nn.Y=x, y \n",
    "target=np.around(np.squeeze(y), decimals=0).astype(np.int)\n",
    "predicted=np.around(np.squeeze(nn.pred(x,y)), decimals=0).astype(np.int)\n",
    "plotCf(target,predicted,'Cf Training Set')\n",
    "\n",
    "nn.X,nn.Y=xval, yval \n",
    "target=np.around(np.squeeze(yval), decimals=0).astype(np.int)\n",
    "predicted=np.around(np.squeeze(nn.pred(xval,yval)), decimals=0).astype(np.int)\n",
    "plotCf(target,predicted,'Cf Validation Set')"
   ]
  }
 ],
 "metadata": {
  "kernelspec": {
   "display_name": "Python 3",
   "language": "python",
   "name": "python3"
  },
  "language_info": {
   "codemirror_mode": {
    "name": "ipython",
    "version": 3
   },
   "file_extension": ".py",
   "mimetype": "text/x-python",
   "name": "python",
   "nbconvert_exporter": "python",
   "pygments_lexer": "ipython3",
   "version": "3.8.5"
  }
 },
 "nbformat": 4,
 "nbformat_minor": 4
}
